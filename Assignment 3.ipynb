{
 "cells": [
  {
   "cell_type": "markdown",
   "metadata": {},
   "source": [
    "# Comm 461 Assignment 3 \n",
    "\n",
    "\n",
    "** SUBMITTED BY: **"
   ]
  },
  {
   "cell_type": "markdown",
   "metadata": {},
   "source": [
    "Zacharias van Zyl - 20148761, Cassandra Harvey - 20176074, Jack Liston - 20169600, Stephen Abbott 20150887, Matthew Martin - 20162349"
   ]
  },
  {
   "cell_type": "code",
   "execution_count": 1,
   "metadata": {},
   "outputs": [],
   "source": [
    "import pandas as pd\n",
    "import numpy as np\n",
    "import matplotlib.pylab as plt\n",
    "%matplotlib inline"
   ]
  },
  {
   "cell_type": "markdown",
   "metadata": {},
   "source": [
    "---\n",
    "## Ensemble Learning\n",
    "\n",
    "In this part of the assignment, we look at [Ensemble Methods with sklearn](http://scikit-learn.org/stable/modules/ensemble.html). Specifically, we use [Forests of randomized trees](http://scikit-learn.org/stable/modules/ensemble.html#forest), [Gradient Tree Boosting](http://scikit-learn.org/stable/modules/ensemble.html#gradient-boosting)\n",
    "\n",
    "### Classifiction using Forest of Randomized Trees\n",
    "\n",
    "The code below trains a `RandomForestClassifier` on the iris dataset."
   ]
  },
  {
   "cell_type": "code",
   "execution_count": 2,
   "metadata": {},
   "outputs": [
    {
     "name": "stdout",
     "output_type": "stream",
     "text": [
      "RandomForestClassifier 0.96\n"
     ]
    }
   ],
   "source": [
    "from sklearn.datasets import load_iris\n",
    "from sklearn.model_selection import train_test_split\n",
    "from sklearn.ensemble import RandomForestClassifier\n",
    "from sklearn.metrics import accuracy_score\n",
    "\n",
    "iris = load_iris()\n",
    "X_train, X_test, y_train, y_test = train_test_split(iris[\"data\"], iris[\"target\"], test_size=0.33, random_state=15)\n",
    "\n",
    "rnd_clf = RandomForestClassifier(n_estimators=500, n_jobs=-1)\n",
    "rnd_clf.fit(X_train,y_train)\n",
    "rnd_pred = rnd_clf.predict(X_test)\n",
    "\n",
    "print(rnd_clf.__class__.__name__, accuracy_score(y_test, rnd_pred))"
   ]
  },
  {
   "cell_type": "markdown",
   "metadata": {},
   "source": [
    "If you look at a single Decision Tree, important features are likely to appear closer to the root of the tree, while unimportant features will often appear closer to the leaves (or not at all). It is therefore possible to get an estimate of a feature’s importance by computing the average depth at which it appears across all trees in the forest. This can give a quick idea of what features actually matter if you need to perform feature selection"
   ]
  },
  {
   "cell_type": "code",
   "execution_count": 3,
   "metadata": {},
   "outputs": [
    {
     "name": "stdout",
     "output_type": "stream",
     "text": [
      "sepal length (cm) 0.09944464547042393\n",
      "sepal width (cm) 0.02613603333730799\n",
      "petal length (cm) 0.4641201742718116\n",
      "petal width (cm) 0.41029914692045644\n"
     ]
    }
   ],
   "source": [
    "for name,score in zip(iris[\"feature_names\"],rnd_clf.feature_importances_):\n",
    "    print(name,score)"
   ]
  },
  {
   "cell_type": "markdown",
   "metadata": {},
   "source": [
    "### **Question 1**  \n",
    "Use the cell below to train a classifier of your choice using only petal length and petal width and compare the accuracy to the one of the Random Forest. (Hint: length and width are the last two columns of the data array.) "
   ]
  },
  {
   "cell_type": "code",
   "execution_count": 5,
   "metadata": {},
   "outputs": [
    {
     "name": "stdout",
     "output_type": "stream",
     "text": [
      "DecisionTreeClassifier 0.94\n"
     ]
    }
   ],
   "source": [
    "from sklearn.tree import DecisionTreeClassifier\n",
    "\n",
    "# drop sepal length and width\n",
    "X = iris[\"data\"][:,2:]\n",
    "X_train, X_test, y_train, y_test = train_test_split(X, iris[\"target\"], test_size=0.33, random_state=15)\n",
    "\n",
    "tree = DecisionTreeClassifier()\n",
    "tree.fit(X_train, y_train)\n",
    "tree_pred = tree.predict(X_test)\n",
    "\n",
    "print(tree.__class__.__name__, accuracy_score(y_test, tree_pred))"
   ]
  },
  {
   "cell_type": "markdown",
   "metadata": {},
   "source": [
    "### Regression using Gradient Tree Boosting\n",
    "\n",
    "The code below uses `GradientBoostingRegressor` on sample data."
   ]
  },
  {
   "cell_type": "code",
   "execution_count": 6,
   "metadata": {},
   "outputs": [],
   "source": [
    "# Data Sampling\n",
    "np.random.seed(42)\n",
    "X = np.random.rand(100, 1) - 0.5\n",
    "y = 10*X[:, 0]**3 + .08 * np.random.randn(100)"
   ]
  },
  {
   "cell_type": "code",
   "execution_count": 7,
   "metadata": {},
   "outputs": [
    {
     "data": {
      "text/html": [
       "<style>#sk-container-id-1 {color: black;background-color: white;}#sk-container-id-1 pre{padding: 0;}#sk-container-id-1 div.sk-toggleable {background-color: white;}#sk-container-id-1 label.sk-toggleable__label {cursor: pointer;display: block;width: 100%;margin-bottom: 0;padding: 0.3em;box-sizing: border-box;text-align: center;}#sk-container-id-1 label.sk-toggleable__label-arrow:before {content: \"▸\";float: left;margin-right: 0.25em;color: #696969;}#sk-container-id-1 label.sk-toggleable__label-arrow:hover:before {color: black;}#sk-container-id-1 div.sk-estimator:hover label.sk-toggleable__label-arrow:before {color: black;}#sk-container-id-1 div.sk-toggleable__content {max-height: 0;max-width: 0;overflow: hidden;text-align: left;background-color: #f0f8ff;}#sk-container-id-1 div.sk-toggleable__content pre {margin: 0.2em;color: black;border-radius: 0.25em;background-color: #f0f8ff;}#sk-container-id-1 input.sk-toggleable__control:checked~div.sk-toggleable__content {max-height: 200px;max-width: 100%;overflow: auto;}#sk-container-id-1 input.sk-toggleable__control:checked~label.sk-toggleable__label-arrow:before {content: \"▾\";}#sk-container-id-1 div.sk-estimator input.sk-toggleable__control:checked~label.sk-toggleable__label {background-color: #d4ebff;}#sk-container-id-1 div.sk-label input.sk-toggleable__control:checked~label.sk-toggleable__label {background-color: #d4ebff;}#sk-container-id-1 input.sk-hidden--visually {border: 0;clip: rect(1px 1px 1px 1px);clip: rect(1px, 1px, 1px, 1px);height: 1px;margin: -1px;overflow: hidden;padding: 0;position: absolute;width: 1px;}#sk-container-id-1 div.sk-estimator {font-family: monospace;background-color: #f0f8ff;border: 1px dotted black;border-radius: 0.25em;box-sizing: border-box;margin-bottom: 0.5em;}#sk-container-id-1 div.sk-estimator:hover {background-color: #d4ebff;}#sk-container-id-1 div.sk-parallel-item::after {content: \"\";width: 100%;border-bottom: 1px solid gray;flex-grow: 1;}#sk-container-id-1 div.sk-label:hover label.sk-toggleable__label {background-color: #d4ebff;}#sk-container-id-1 div.sk-serial::before {content: \"\";position: absolute;border-left: 1px solid gray;box-sizing: border-box;top: 0;bottom: 0;left: 50%;z-index: 0;}#sk-container-id-1 div.sk-serial {display: flex;flex-direction: column;align-items: center;background-color: white;padding-right: 0.2em;padding-left: 0.2em;position: relative;}#sk-container-id-1 div.sk-item {position: relative;z-index: 1;}#sk-container-id-1 div.sk-parallel {display: flex;align-items: stretch;justify-content: center;background-color: white;position: relative;}#sk-container-id-1 div.sk-item::before, #sk-container-id-1 div.sk-parallel-item::before {content: \"\";position: absolute;border-left: 1px solid gray;box-sizing: border-box;top: 0;bottom: 0;left: 50%;z-index: -1;}#sk-container-id-1 div.sk-parallel-item {display: flex;flex-direction: column;z-index: 1;position: relative;background-color: white;}#sk-container-id-1 div.sk-parallel-item:first-child::after {align-self: flex-end;width: 50%;}#sk-container-id-1 div.sk-parallel-item:last-child::after {align-self: flex-start;width: 50%;}#sk-container-id-1 div.sk-parallel-item:only-child::after {width: 0;}#sk-container-id-1 div.sk-dashed-wrapped {border: 1px dashed gray;margin: 0 0.4em 0.5em 0.4em;box-sizing: border-box;padding-bottom: 0.4em;background-color: white;}#sk-container-id-1 div.sk-label label {font-family: monospace;font-weight: bold;display: inline-block;line-height: 1.2em;}#sk-container-id-1 div.sk-label-container {text-align: center;}#sk-container-id-1 div.sk-container {/* jupyter's `normalize.less` sets `[hidden] { display: none; }` but bootstrap.min.css set `[hidden] { display: none !important; }` so we also need the `!important` here to be able to override the default hidden behavior on the sphinx rendered scikit-learn.org. See: https://github.com/scikit-learn/scikit-learn/issues/21755 */display: inline-block !important;position: relative;}#sk-container-id-1 div.sk-text-repr-fallback {display: none;}</style><div id=\"sk-container-id-1\" class=\"sk-top-container\"><div class=\"sk-text-repr-fallback\"><pre>GradientBoostingRegressor(max_depth=2, n_estimators=200, random_state=42)</pre><b>In a Jupyter environment, please rerun this cell to show the HTML representation or trust the notebook. <br />On GitHub, the HTML representation is unable to render, please try loading this page with nbviewer.org.</b></div><div class=\"sk-container\" hidden><div class=\"sk-item\"><div class=\"sk-estimator sk-toggleable\"><input class=\"sk-toggleable__control sk-hidden--visually\" id=\"sk-estimator-id-1\" type=\"checkbox\" checked><label for=\"sk-estimator-id-1\" class=\"sk-toggleable__label sk-toggleable__label-arrow\">GradientBoostingRegressor</label><div class=\"sk-toggleable__content\"><pre>GradientBoostingRegressor(max_depth=2, n_estimators=200, random_state=42)</pre></div></div></div></div></div>"
      ],
      "text/plain": [
       "GradientBoostingRegressor(max_depth=2, n_estimators=200, random_state=42)"
      ]
     },
     "execution_count": 7,
     "metadata": {},
     "output_type": "execute_result"
    }
   ],
   "source": [
    "# Training\n",
    "from sklearn.ensemble import GradientBoostingRegressor\n",
    "\n",
    "gbrt = GradientBoostingRegressor(max_depth=2, n_estimators=3, learning_rate=1.0, random_state=42)\n",
    "gbrt.fit(X, y)\n",
    "\n",
    "gbrt_slow = GradientBoostingRegressor(max_depth=2, n_estimators=200, learning_rate=0.1, random_state=42)\n",
    "gbrt_slow.fit(X, y)"
   ]
  },
  {
   "cell_type": "code",
   "execution_count": 8,
   "metadata": {},
   "outputs": [
    {
     "data": {
      "image/png": "[encoded data removed]",
      "text/plain": [
       "<Figure size 792x288 with 2 Axes>"
      ]
     },
     "metadata": {
      "needs_background": "light"
     },
     "output_type": "display_data"
    }
   ],
   "source": [
    "# Plotting\n",
    "def plot_predictions(regressors, X, y, axes, label=None, style=\"r-\", data_style=\"b.\", data_label=None):\n",
    "    x1 = np.linspace(axes[0], axes[1], 500)\n",
    "    y_pred = sum(regressor.predict(x1.reshape(-1, 1)) for regressor in regressors)\n",
    "    plt.plot(X[:, 0], y, data_style, label=data_label)\n",
    "    plt.plot(x1, y_pred, style, linewidth=2, label=label)\n",
    "    if label or data_label:\n",
    "        plt.legend(loc=\"upper center\", fontsize=16)\n",
    "    plt.axis(axes)\n",
    "    \n",
    "plt.figure(figsize=(11,4))\n",
    "\n",
    "plt.subplot(121)\n",
    "plot_predictions([gbrt], X, y, axes=[-0.5, 0.5, -0.8, 0.8], label=\"Ensemble predictions\")\n",
    "plt.title(\"learning_rate={}, n_estimators={}\".format(gbrt.learning_rate, gbrt.n_estimators), fontsize=14)\n",
    "\n",
    "plt.subplot(122)\n",
    "plot_predictions([gbrt_slow], X, y, axes=[-0.5, 0.5, -0.8, 0.8], label=\"Ensemble predictions\")\n",
    "plt.title(\"learning_rate={}, n_estimators={}\".format(gbrt_slow.learning_rate, gbrt_slow.n_estimators), fontsize=14)\n",
    "\n",
    "plt.show()"
   ]
  },
  {
   "cell_type": "markdown",
   "metadata": {},
   "source": [
    "#### As you can see, the model on the left underfits the data and the model on the right overfits the data.\n",
    "\n",
    "### **Question 2**  \n",
    "Which model parameters can you adjust to optimize the fit?\n",
    "\n",
    "---"
   ]
  },
  {
   "cell_type": "markdown",
   "metadata": {},
   "source": [
    "To optimize the fit, we can adjust the following parameters: learning rate, number of estimators, and max depth."
   ]
  },
  {
   "cell_type": "markdown",
   "metadata": {},
   "source": [
    "---\n",
    "\n",
    "### Classification using Stacked Generalization\n",
    "\n",
    "In this section, we combine the various ensemble methods learned to create a model stack for classification task.\n",
    "\n",
    "The task is to perform optical character recognition by classifying handwritten numbers from 0 to 9. Here is a sample of our training data from the dataset called MNIST:\n",
    "\n",
    "![numbers](data/numbers.png)\n",
    "\n",
    "The following code loads the MNIST data, and splits it into a training set, and a test set.\n",
    "\n",
    "If you run the code below, you might receive an error, saying that certain modules are not available.\n",
    "Remeber that Python is a modular language, and sometimes the modules (or packages as some might call it) are not loaded by default. For this task we need to add 2 modules to our coding environment: \"keras\" and \"tensorflow\". Here is a link explaining how to add them to your environment:\n",
    "https://www.geeksforgeeks.org/python-add-packages-to-anaconda-environment/"
   ]
  },
  {
   "cell_type": "code",
   "execution_count": 9,
   "metadata": {},
   "outputs": [
    {
     "name": "stdout",
     "output_type": "stream",
     "text": [
      "Downloading data from https://storage.googleapis.com/tensorflow/tf-keras-datasets/mnist.npz\n",
      "11490434/11490434 [==============================] - 1s 0us/step\n",
      "X_train: (60000, 28, 28)\n",
      "Y_train: (60000,)\n",
      "X_test:  (10000, 28, 28)\n",
      "Y_test:  (10000,)\n"
     ]
    }
   ],
   "source": [
    "from keras.datasets import mnist\n",
    "\n",
    "(X_train, y_train), (X_test, y_test) = mnist.load_data()\n",
    "\n",
    "#printing the shapes of the vectors \n",
    "print('X_train: ' + str(X_train.shape))\n",
    "print('Y_train: ' + str(y_train.shape))\n",
    "print('X_test:  '  + str(X_test.shape))\n",
    "print('Y_test:  '  + str(y_test.shape))"
   ]
  },
  {
   "cell_type": "markdown",
   "metadata": {},
   "source": [
    "### **Question 3**  \n",
    "\n",
    "*Step 1: Build individual ensemble classifiers.*\n",
    "\n",
    "Train a [RandomForestClassifier](http://scikit-learn.org/stable/modules/generated/sklearn.ensemble.RandomForestClassifier.html) and a [GradientBoostingClassifier](http://scikit-learn.org/stable/modules/generated/sklearn.ensemble.GradientBoostingClassifier.html) using `X_train` and `y_train`.\n",
    "\n",
    "Use each of the two models to predict the values of `y_test` and calculate the accuracy compared to `y_test`.\n",
    "\n",
    "*Step 2: Create a stacked train_set*\n",
    "\n",
    "Combine the two resulting sets of predictions into a new set called `X_train_pred`. This dataset has 2 columns, which are the predictions performed in step 1.\n",
    "\n",
    "*Step 3: Training on the new dataset*\n",
    "\n",
    "Train a new `RandomForestClassifier` using the new `X_train_pred`, and previous`y_train` to create a blender.\n",
    "\n",
    "Unlike the original dataset, this model has the predictions from step 1  as train data, but the target is the same as step 1.\n",
    "\n",
    "Use this blender to predict `y_test` and compare the accuracy against actual values of `y_test`. Compare the accuracy of this new blender model with the ones acheived using the individual classifiers in step 1."
   ]
  },
  {
   "cell_type": "code",
   "execution_count": 17,
   "metadata": {},
   "outputs": [],
   "source": [
    "# Reshape the data to 2D\n",
    "X_train = X_train.reshape(X_train.shape[0], -1)\n",
    "X_test = X_test.reshape(X_test.shape[0], -1)"
   ]
  },
  {
   "cell_type": "code",
   "execution_count": 16,
   "metadata": {},
   "outputs": [
    {
     "name": "stdout",
     "output_type": "stream",
     "text": [
      "0.9707\n"
     ]
    }
   ],
   "source": [
    "# Random Forest\n",
    "mnist_rf = RandomForestClassifier()\n",
    "\n",
    "mnist_rf.fit(X_train, y_train)\n",
    "mnist_rf_pred = mnist_rf.predict(X_test)\n",
    "\n",
    "print(accuracy_score(y_test, mnist_rf_pred))"
   ]
  },
  {
   "cell_type": "code",
   "execution_count": 18,
   "metadata": {},
   "outputs": [
    {
     "name": "stdout",
     "output_type": "stream",
     "text": [
      "0.9459\n"
     ]
    }
   ],
   "source": [
    "# Gradient Boosting\n",
    "from sklearn.ensemble import GradientBoostingClassifier\n",
    "\n",
    "mnist_gbt = GradientBoostingClassifier()\n",
    "mnist_gbt.fit(X_train, y_train)\n",
    "mnist_gbt_pred = mnist_gbt.predict(X_test)\n",
    "\n",
    "print(accuracy_score(y_test, mnist_gbt_pred))"
   ]
  },
  {
   "cell_type": "code",
   "execution_count": 19,
   "metadata": {},
   "outputs": [],
   "source": [
    "# Step 2\n",
    "X_train_pred = np.column_stack((mnist_rf_pred, mnist_gbt_pred))"
   ]
  },
  {
   "cell_type": "code",
   "execution_count": 20,
   "metadata": {},
   "outputs": [
    {
     "name": "stdout",
     "output_type": "stream",
     "text": [
      "0.9725\n"
     ]
    }
   ],
   "source": [
    "# Blender\n",
    "blender = RandomForestClassifier()\n",
    "\n",
    "blender.fit(X_train_pred, y_test)\n",
    "blender_pred = blender.predict(X_train_pred)\n",
    "\n",
    "print(accuracy_score(y_test, blender_pred))"
   ]
  },
  {
   "cell_type": "markdown",
   "metadata": {},
   "source": [
    "The blended model has a higher accuracy than the individual models. However, the blended model is only marginally better than the Random Forest Model."
   ]
  },
  {
   "cell_type": "markdown",
   "metadata": {},
   "source": [
    "### Using Artificial Neural Networks for Classification\n",
    "In this part, we want to use ANN for classification. More specifically, we use a Multi-layer Perceptron to do so.\n",
    "[Scikit Learn](http://scikit-learn.org/stable/modules/neural_networks_supervised.html) has necessary tools to develop such a model. "
   ]
  },
  {
   "cell_type": "markdown",
   "metadata": {},
   "source": [
    "### **Question 4** \n",
    "Using MNIST data set, develop an ANN classifier with LBFGS solver and $\\alpha = 1e-5$. Use one hidden layer of size 50 and without random state. If a parameter is not mentioned in this description, use the default values.\n",
    "\n",
    "Use the same train set as in the last question and then test it on the test set and measure its accuracy and the time spent to solve it.\n",
    "(You can use *%%time* magic for a cell to measure the time spent to finish that cell. You just have to type *%%time* at the beginning of the cell.)\n"
   ]
  },
  {
   "cell_type": "code",
   "execution_count": 24,
   "metadata": {},
   "outputs": [
    {
     "name": "stderr",
     "output_type": "stream",
     "text": [
      "/Users/zaaisvanzyl/opt/anaconda3/lib/python3.8/site-packages/sklearn/neural_network/_multilayer_perceptron.py:541: ConvergenceWarning: lbfgs failed to converge (status=1):\n",
      "STOP: TOTAL NO. of ITERATIONS REACHED LIMIT.\n",
      "\n",
      "Increase the number of iterations (max_iter) or scale the data as shown in:\n",
      "    https://scikit-learn.org/stable/modules/preprocessing.html\n",
      "  self.n_iter_ = _check_optimize_result(\"lbfgs\", opt_res, self.max_iter)\n"
     ]
    },
    {
     "name": "stdout",
     "output_type": "stream",
     "text": [
      "Training set score: 0.861883\n",
      "Test set score: 0.855400\n",
      "CPU times: user 7min 4s, sys: 53.3 s, total: 7min 57s\n",
      "Wall time: 1min 4s\n"
     ]
    }
   ],
   "source": [
    "%%time\n",
    "from sklearn.neural_network import MLPClassifier\n",
    "\n",
    "mlp = MLPClassifier(\n",
    "    hidden_layer_sizes=(50,),\n",
    "    alpha=1e-5,\n",
    "    solver='lbfgs',\n",
    ")\n",
    "\n",
    "mlp.fit(X_train, y_train)\n",
    "\n",
    "print(\"Training set score: %f\" % mlp.score(X_train, y_train))\n",
    "print(\"Test set score: %f\" % mlp.score(X_test, y_test))"
   ]
  },
  {
   "cell_type": "markdown",
   "metadata": {},
   "source": [
    "### **Question 5**\n",
    "By changing the parameters in your ANN model above, develop 3 variations in the cells below. In each case, measure time and accuracy. At the end, choose one of these 4 (including the original model you developed above) explaining why you chose it."
   ]
  },
  {
   "cell_type": "code",
   "execution_count": 27,
   "metadata": {},
   "outputs": [
    {
     "name": "stderr",
     "output_type": "stream",
     "text": [
      "/Users/zaaisvanzyl/opt/anaconda3/lib/python3.8/site-packages/sklearn/neural_network/_multilayer_perceptron.py:541: ConvergenceWarning: lbfgs failed to converge (status=1):\n",
      "STOP: TOTAL NO. of ITERATIONS REACHED LIMIT.\n",
      "\n",
      "Increase the number of iterations (max_iter) or scale the data as shown in:\n",
      "    https://scikit-learn.org/stable/modules/preprocessing.html\n",
      "  self.n_iter_ = _check_optimize_result(\"lbfgs\", opt_res, self.max_iter)\n"
     ]
    },
    {
     "name": "stdout",
     "output_type": "stream",
     "text": [
      "Training set score: 0.952783\n",
      "Test set score: 0.944100\n",
      "CPU times: user 8min 54s, sys: 55.1 s, total: 9min 49s\n",
      "Wall time: 1min 16s\n"
     ]
    }
   ],
   "source": [
    "%%time\n",
    "from sklearn.neural_network import MLPClassifier\n",
    "\n",
    "mlp = MLPClassifier(\n",
    "    hidden_layer_sizes=(100,),\n",
    "    alpha=1e-5,\n",
    "    solver='lbfgs',\n",
    ")\n",
    "\n",
    "mlp.fit(X_train, y_train)\n",
    "\n",
    "print(\"Training set score: %f\" % mlp.score(X_train, y_train))\n",
    "print(\"Test set score: %f\" % mlp.score(X_test, y_test))"
   ]
  },
  {
   "cell_type": "code",
   "execution_count": 28,
   "metadata": {},
   "outputs": [
    {
     "name": "stderr",
     "output_type": "stream",
     "text": [
      "/Users/zaaisvanzyl/opt/anaconda3/lib/python3.8/site-packages/sklearn/neural_network/_multilayer_perceptron.py:541: ConvergenceWarning: lbfgs failed to converge (status=1):\n",
      "STOP: TOTAL NO. of ITERATIONS REACHED LIMIT.\n",
      "\n",
      "Increase the number of iterations (max_iter) or scale the data as shown in:\n",
      "    https://scikit-learn.org/stable/modules/preprocessing.html\n",
      "  self.n_iter_ = _check_optimize_result(\"lbfgs\", opt_res, self.max_iter)\n"
     ]
    },
    {
     "name": "stdout",
     "output_type": "stream",
     "text": [
      "Training set score: 0.983550\n",
      "Test set score: 0.960400\n",
      "CPU times: user 12min 20s, sys: 1min 12s, total: 13min 33s\n",
      "Wall time: 1min 49s\n"
     ]
    }
   ],
   "source": [
    "%%time\n",
    "from sklearn.neural_network import MLPClassifier\n",
    "\n",
    "mlp = MLPClassifier(\n",
    "    hidden_layer_sizes=(200,),\n",
    "    alpha=1e-5,\n",
    "    solver='lbfgs',\n",
    ")\n",
    "\n",
    "mlp.fit(X_train, y_train)\n",
    "\n",
    "print(\"Training set score: %f\" % mlp.score(X_train, y_train))\n",
    "print(\"Test set score: %f\" % mlp.score(X_test, y_test))"
   ]
  },
  {
   "cell_type": "code",
   "execution_count": 29,
   "metadata": {},
   "outputs": [
    {
     "name": "stdout",
     "output_type": "stream",
     "text": [
      "Training set score: 1.000000\n",
      "Test set score: 0.969900\n",
      "CPU times: user 10min 1s, sys: 3min 49s, total: 13min 50s\n",
      "Wall time: 2min 22s\n"
     ]
    }
   ],
   "source": [
    "%%time\n",
    "from sklearn.neural_network import MLPClassifier\n",
    "\n",
    "mlp = MLPClassifier(\n",
    "    hidden_layer_sizes=(500,),\n",
    "    alpha=1e-5,\n",
    "    solver='lbfgs',\n",
    ")\n",
    "\n",
    "mlp.fit(X_train, y_train)\n",
    "\n",
    "print(\"Training set score: %f\" % mlp.score(X_train, y_train))\n",
    "print(\"Test set score: %f\" % mlp.score(X_test, y_test))"
   ]
  },
  {
   "cell_type": "markdown",
   "metadata": {},
   "source": [
    "We will choose the second model (with a hidden layer size of 200). It has a high test set score, and a favourable training time. The last model has the highest test set score, but also shows significant evidence of overfitting."
   ]
  },
  {
   "cell_type": "markdown",
   "metadata": {
    "collapsed": true
   },
   "source": [
    "## Using PCA \n",
    "Let's Apply PCA here to see if we can reduce the dimension of our data while retaining most of the variation. You may remeber from the course that one of the applications of PCA is to reduce dimensionality by finding the eigen vectors and eigen values and then mapping the whole dataset into the new space defined by those vectors.\n",
    "\n",
    "To do so, we use PCA package from [Scikit Learn](http://scikit-learn.org/stable/modules/generated/sklearn.decomposition.PCA.html)."
   ]
  },
  {
   "cell_type": "markdown",
   "metadata": {},
   "source": [
    "### **Question 6**\n",
    "Apply PCA on the same data (MNIST) to reduce the dimension of the data while retaining 95% of the variance. As for the rest of the parameters, go with the default settings. At the end, measure the variance you explained from the original data and also save your data in new nd_array named X_PCA.\n",
    "\n",
    "hint: you can call your model pca and then look at pca.fit_transform(X) and its shape and pca.explained_variance_ratio_\n",
    "\n",
    "remember that this should happen on X which has X_train and y_train together\n"
   ]
  },
  {
   "cell_type": "code",
   "execution_count": 37,
   "metadata": {},
   "outputs": [
    {
     "name": "stdout",
     "output_type": "stream",
     "text": [
      "Starting shape:  (60000, 784)\n",
      "Reduced shape:  (60000, 154)\n",
      "[0.09704664 0.07095924 0.06169089 0.05389419 0.04868797 0.04312231\n",
      " 0.0327193  0.02883895 0.02762029 0.02357001 0.0210919  0.02022991\n",
      " 0.01715818 0.01692111 0.01578641 0.01482953 0.01324561 0.01276897\n",
      " 0.01187263 0.01152684 0.01066166 0.01006713 0.00953573 0.00912544\n",
      " 0.00883405 0.00839319 0.00812579 0.00786366 0.00744733 0.00690859\n",
      " 0.00658094 0.00648148 0.00602615 0.00586582 0.00570021 0.00543628\n",
      " 0.00505786 0.00487859 0.00481429 0.00472266 0.00456747 0.00444836\n",
      " 0.00418501 0.00398215 0.00384975 0.00375103 0.00362009 0.00351591\n",
      " 0.00340058 0.00321874 0.00319017 0.00312805 0.00295983 0.00288955\n",
      " 0.0028413  0.00271436 0.00269521 0.00258473 0.00253771 0.00244781\n",
      " 0.00240506 0.00239263 0.00230408 0.00221532 0.00213721 0.00207225\n",
      " 0.00203043 0.00196783 0.00192853 0.00188632 0.00186977 0.00181083\n",
      " 0.00177562 0.00174898 0.00165758 0.00163894 0.00161462 0.00155116\n",
      " 0.00147613 0.00143176 0.00142094 0.00141153 0.00140174 0.00135736\n",
      " 0.00133847 0.00132396 0.00130157 0.00125873 0.00122828 0.00121584\n",
      " 0.00117034 0.00114874 0.00113244 0.00110886 0.00109002 0.00106923\n",
      " 0.00104196 0.00104007 0.00101256 0.00100527 0.00098402 0.00094969\n",
      " 0.00094134 0.00091617 0.00090785 0.00089687 0.00086539 0.00085517\n",
      " 0.00084562 0.0008225  0.00079158 0.00078594 0.00078461 0.00076883\n",
      " 0.00076402 0.00075309 0.00073678 0.00072713 0.00071965 0.00070682\n",
      " 0.00069542 0.00069216 0.0006833  0.00067406 0.00066688 0.00064527\n",
      " 0.00063559 0.00063165 0.00062293 0.00060529 0.00060359 0.00059448\n",
      " 0.00058831 0.00058652 0.00058134 0.00057683 0.00056537 0.00055476\n",
      " 0.00053517 0.00052593 0.00052509 0.00051026 0.00050297 0.00050108\n",
      " 0.00049871 0.00049107 0.00048554 0.00048285 0.00047401 0.00046835\n",
      " 0.0004666  0.00046333 0.00045929 0.00045038]\n"
     ]
    }
   ],
   "source": [
    "# Import PCA\n",
    "from sklearn.decomposition import PCA\n",
    "\n",
    "# Create a PCA instance: pca\n",
    "pca = PCA(n_components=0.95)\n",
    "\n",
    "# Print starting shape\n",
    "print(\"Starting shape: \", X_train.shape)\n",
    "\n",
    "# Apply the fit_transform method of pca to digits: pca_features\n",
    "pca_features = pca.fit_transform(X_train)\n",
    "\n",
    "# Print the shape of pca_features\n",
    "print(\"Reduced shape: \", pca_features.shape)\n",
    "\n",
    "# Print variance ratio\\\n",
    "print(pca.explained_variance_ratio_)\n"
   ]
  },
  {
   "cell_type": "markdown",
   "metadata": {},
   "source": [
    "### **Question 7**\n",
    "Having the new matrix X_PCA, prepare new sets of train and test data along with the corresponding labels.\n"
   ]
  },
  {
   "cell_type": "code",
   "execution_count": 38,
   "metadata": {},
   "outputs": [],
   "source": [
    "X_train_pca, X_test_pca, y_train_pca, y_test_pca = train_test_split(pca_features, y_train, test_size=0.2, random_state=42)"
   ]
  },
  {
   "cell_type": "markdown",
   "metadata": {},
   "source": [
    "### **Quesetion 8** \n",
    "Pick the model of your choice from question 5, and this time train it on this new data set you made in question 7. Measure time and accuracy, and then write your insights about this process (from question 5 upto this part)."
   ]
  },
  {
   "cell_type": "code",
   "execution_count": 40,
   "metadata": {},
   "outputs": [
    {
     "name": "stdout",
     "output_type": "stream",
     "text": [
      "Training set score: 1.000000\n",
      "Test set score: 0.958500\n",
      "CPU times: user 3min 49s, sys: 47.9 s, total: 4min 37s\n",
      "Wall time: 34.1 s\n"
     ]
    }
   ],
   "source": [
    "%%time\n",
    "from sklearn.neural_network import MLPClassifier\n",
    "\n",
    "mlp = MLPClassifier(\n",
    "    hidden_layer_sizes=(200,),\n",
    "    alpha=1e-5,\n",
    "    solver='lbfgs',\n",
    ")\n",
    "\n",
    "mlp.fit(X_train_pca, y_train_pca)\n",
    "\n",
    "print(\"Training set score: %f\" % mlp.score(X_train_pca, y_train_pca))\n",
    "print(\"Test set score: %f\" % mlp.score(X_test_pca, y_test_pca))"
   ]
  },
  {
   "cell_type": "markdown",
   "metadata": {},
   "source": [
    "This combination of first applying PCA and the using a neural network is a good way to maintain model performance while limiting model complexity. It allows for a more efficient use of computational resources. However, it is important to note that the model is not as accurate as the original model, and also shows evidence of overfitting (100% accuracy on training set)."
   ]
  },
  {
   "cell_type": "markdown",
   "metadata": {},
   "source": [
    "### **Thank you!**\n",
    "For an amazing experience. Your feedback is always appreciated!. Let me know what you did and did not like in this course."
   ]
  }
 ],
 "metadata": {
  "kernelspec": {
   "display_name": "Python 3.8.5 ('base')",
   "language": "python",
   "name": "python3"
  },
  "language_info": {
   "codemirror_mode": {
    "name": "ipython",
    "version": 3
   },
   "file_extension": ".py",
   "mimetype": "text/x-python",
   "name": "python",
   "nbconvert_exporter": "python",
   "pygments_lexer": "ipython3",
   "version": "3.8.5"
  },
  "vscode": {
   "interpreter": {
    "hash": "62515eca172f994feb982e46b2bbe1657b285a4ff7ad8f4b6185cbb26ed95270"
   }
  }
 },
 "nbformat": 4,
 "nbformat_minor": 2
}
